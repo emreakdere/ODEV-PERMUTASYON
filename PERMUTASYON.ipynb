{
  "nbformat": 4,
  "nbformat_minor": 0,
  "metadata": {
    "colab": {
      "name": "Untitled0.ipynb",
      "provenance": [],
      "authorship_tag": "ABX9TyPZolk+rz7Jlvl7q5rCxd2Z",
      "include_colab_link": true
    },
    "kernelspec": {
      "name": "python3",
      "display_name": "Python 3"
    }
  },
  "cells": [
    {
      "cell_type": "markdown",
      "metadata": {
        "id": "view-in-github",
        "colab_type": "text"
      },
      "source": [
        "<a href=\"https://colab.research.google.com/github/emrecanakdere/ODEV-PERMUTASYON/blob/master/PERMUTASYON.ipynb\" target=\"_parent\"><img src=\"https://colab.research.google.com/assets/colab-badge.svg\" alt=\"Open In Colab\"/></a>"
      ]
    },
    {
      "cell_type": "code",
      "metadata": {
        "id": "JWSn3sXjXSok",
        "colab_type": "code",
        "colab": {}
      },
      "source": [
        "SORU 1: Permütasyon\n",
        "\n",
        "Bir öğrenci uygulama dosyasının bulunduğu adresi bilmemektedir. İstediği dosyanın 4 adımda gidildiğini bilmektedir. Elinde K = { 'MRIC' , 'OSCAR' , 'TNT' , 'etc' , 'TOS' , 'FOSN' , 'NSMS' , 'export' } şeklinde klasör listesi bulunan öğrenci, en başta 'etc' en sonda 'export' bulunması şartı ile en fazla kaç farklı denemeden sonra doğru dosya yolunu bulabilir?\n",
        "\n",
        "ÇÖZÜM: 8 elemanı bulunan K kümesinin 4'erli şekilde sıralamamız gerekmektedir. Başta 'etc' ve sonda 'export' olduğuna göre bu iki eleman kümeden çıkarılabilir. K2 = { 'MRIC' , 'OSCAR' , 'TNT' , 'TOS' , 'FOSN' , 'NSMS' } 'etc'-> X -> Y -> 'export' P(6,2): 6!/(6-2)! = 30 defa denemeli\n",
        "\n",
        "[ ]\n"
      ],
      "execution_count": 0,
      "outputs": []
    },
    {
      "cell_type": "markdown",
      "metadata": {
        "id": "J9V9s67SXUmp",
        "colab_type": "text"
      },
      "source": [
        ""
      ]
    },
    {
      "cell_type": "code",
      "metadata": {
        "id": "hBcqVn_EXZ0Z",
        "colab_type": "code",
        "colab": {}
      },
      "source": [
        ""
      ],
      "execution_count": 0,
      "outputs": []
    },
    {
      "cell_type": "code",
      "metadata": {
        "colab_type": "code",
        "id": "Rb2PAoSAXaJG",
        "colab": {
          "base_uri": "https://localhost:8080/",
          "height": 544
        },
        "outputId": "203a8323-4906-4f07-af86-89b4d1b4d0bb"
      },
      "source": [
        "def faktoriyel_al(faktoriyeli_hesaplanacak_sayi):\n",
        "  if faktoriyeli_hesaplanacak_sayi == 0 or faktoriyeli_hesaplanacak_sayi == 1:\n",
        "    return 1\n",
        "  elif faktoriyeli_hesaplanacak_sayi < 0:\n",
        "    assert \"faktoriyeli_hesaplanacak_sayi < 0\" \n",
        "  else:\n",
        "    return faktoriyeli_hesaplanacak_sayi*faktoriyel_al(faktoriyeli_hesaplanacak_sayi-1)\n",
        "\n",
        "def pemutasyon_al(eleman_sayisi_n, secim_sayisi_r):\n",
        "  return faktoriyel_al(eleman_sayisi_n) / faktoriyel_al(eleman_sayisi_n-secim_sayisi_r)\n",
        "\n",
        "def dizi_pemutasyon_al(dizi_n, secim_r):\n",
        "  dizi_uzunlugu = len(dizi_n)\n",
        "  max_olasilik = pemutasyon_al(dizi_uzunlugu, secim_r)\n",
        "  sayac=0\n",
        "  for i in range(dizi_uzunlugu):\n",
        "    for j in range(dizi_uzunlugu):\n",
        "        if dizi_n[j] == dizi_n[i]:\n",
        "          continue\n",
        "        else:\n",
        "          sayac=sayac+1\n",
        "          print('Olasilik[',sayac,']', ':[etc -> ', dizi_n[i], ' -> ' , dizi_n[j],' -> export]')\n",
        "\n",
        "\n",
        "if __name__ == \"__main__\":\n",
        "  K2 = [\"MRIC\",\"OSCAR\",\"TNT\",\"TOS\",\"FOSN\",\"NSMS\"] # etc ve export belirli olduğu için çıkarıldı\n",
        "  \n",
        "  #\n",
        "  #sadece max sayi icin\n",
        "  #\n",
        "  print('En fazla [', round(pemutasyon_al(len(K2),2)), '] deneme sonrasında bulur.')\n",
        "  \n",
        "  #\n",
        "  # tum liste icin\n",
        "  #\n",
        "  dizi_pemutasyon_al(K2,2)\n",
        "\n",
        "\n",
        "\n"
      ],
      "execution_count": 1,
      "outputs": [
        {
          "output_type": "stream",
          "text": [
            "En fazla [ 30 ] deneme sonrasında bulur.\n",
            "Olasilik[ 1 ] :[etc ->  MRIC  ->  OSCAR  -> export]\n",
            "Olasilik[ 2 ] :[etc ->  MRIC  ->  TNT  -> export]\n",
            "Olasilik[ 3 ] :[etc ->  MRIC  ->  TOS  -> export]\n",
            "Olasilik[ 4 ] :[etc ->  MRIC  ->  FOSN  -> export]\n",
            "Olasilik[ 5 ] :[etc ->  MRIC  ->  NSMS  -> export]\n",
            "Olasilik[ 6 ] :[etc ->  OSCAR  ->  MRIC  -> export]\n",
            "Olasilik[ 7 ] :[etc ->  OSCAR  ->  TNT  -> export]\n",
            "Olasilik[ 8 ] :[etc ->  OSCAR  ->  TOS  -> export]\n",
            "Olasilik[ 9 ] :[etc ->  OSCAR  ->  FOSN  -> export]\n",
            "Olasilik[ 10 ] :[etc ->  OSCAR  ->  NSMS  -> export]\n",
            "Olasilik[ 11 ] :[etc ->  TNT  ->  MRIC  -> export]\n",
            "Olasilik[ 12 ] :[etc ->  TNT  ->  OSCAR  -> export]\n",
            "Olasilik[ 13 ] :[etc ->  TNT  ->  TOS  -> export]\n",
            "Olasilik[ 14 ] :[etc ->  TNT  ->  FOSN  -> export]\n",
            "Olasilik[ 15 ] :[etc ->  TNT  ->  NSMS  -> export]\n",
            "Olasilik[ 16 ] :[etc ->  TOS  ->  MRIC  -> export]\n",
            "Olasilik[ 17 ] :[etc ->  TOS  ->  OSCAR  -> export]\n",
            "Olasilik[ 18 ] :[etc ->  TOS  ->  TNT  -> export]\n",
            "Olasilik[ 19 ] :[etc ->  TOS  ->  FOSN  -> export]\n",
            "Olasilik[ 20 ] :[etc ->  TOS  ->  NSMS  -> export]\n",
            "Olasilik[ 21 ] :[etc ->  FOSN  ->  MRIC  -> export]\n",
            "Olasilik[ 22 ] :[etc ->  FOSN  ->  OSCAR  -> export]\n",
            "Olasilik[ 23 ] :[etc ->  FOSN  ->  TNT  -> export]\n",
            "Olasilik[ 24 ] :[etc ->  FOSN  ->  TOS  -> export]\n",
            "Olasilik[ 25 ] :[etc ->  FOSN  ->  NSMS  -> export]\n",
            "Olasilik[ 26 ] :[etc ->  NSMS  ->  MRIC  -> export]\n",
            "Olasilik[ 27 ] :[etc ->  NSMS  ->  OSCAR  -> export]\n",
            "Olasilik[ 28 ] :[etc ->  NSMS  ->  TNT  -> export]\n",
            "Olasilik[ 29 ] :[etc ->  NSMS  ->  TOS  -> export]\n",
            "Olasilik[ 30 ] :[etc ->  NSMS  ->  FOSN  -> export]\n"
          ],
          "name": "stdout"
        }
      ]
    },
    {
      "cell_type": "code",
      "metadata": {
        "colab_type": "code",
        "id": "_0muCrxbXfXB",
        "colab": {}
      },
      "source": [
        "\n"
      ],
      "execution_count": 0,
      "outputs": []
    },
    {
      "cell_type": "markdown",
      "metadata": {
        "id": "xKaXCRgCXfGB",
        "colab_type": "text"
      },
      "source": [
        ""
      ]
    }
  ]
}